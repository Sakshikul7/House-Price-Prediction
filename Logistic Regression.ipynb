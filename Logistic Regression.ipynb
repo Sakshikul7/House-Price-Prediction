{
 "cells": [
  {
   "cell_type": "code",
   "execution_count": 3,
   "id": "42f480fd-cb36-4c80-a76c-17335a1067d1",
   "metadata": {},
   "outputs": [],
   "source": [
    "import pandas as  pd\n",
    "import numpy as np\n",
    "import matplotlib.pyplot as plt\n",
    "import seaborn as sns"
   ]
  },
  {
   "cell_type": "code",
   "execution_count": 5,
   "id": "f28325f7-09a8-4994-adb9-4ccd56114467",
   "metadata": {},
   "outputs": [],
   "source": [
    "df = pd.read_csv(\"file:///C:/Users/asus/Downloads/archive (1).zip\")"
   ]
  },
  {
   "cell_type": "code",
   "execution_count": 7,
   "id": "4efe5439-b558-47a3-9abc-22ab2dfdbcbd",
   "metadata": {},
   "outputs": [
    {
     "data": {
      "text/html": [
       "<div>\n",
       "<style scoped>\n",
       "    .dataframe tbody tr th:only-of-type {\n",
       "        vertical-align: middle;\n",
       "    }\n",
       "\n",
       "    .dataframe tbody tr th {\n",
       "        vertical-align: top;\n",
       "    }\n",
       "\n",
       "    .dataframe thead th {\n",
       "        text-align: right;\n",
       "    }\n",
       "</style>\n",
       "<table border=\"1\" class=\"dataframe\">\n",
       "  <thead>\n",
       "    <tr style=\"text-align: right;\">\n",
       "      <th></th>\n",
       "      <th>male</th>\n",
       "      <th>age</th>\n",
       "      <th>education</th>\n",
       "      <th>currentSmoker</th>\n",
       "      <th>cigsPerDay</th>\n",
       "      <th>BPMeds</th>\n",
       "      <th>prevalentStroke</th>\n",
       "      <th>prevalentHyp</th>\n",
       "      <th>diabetes</th>\n",
       "      <th>totChol</th>\n",
       "      <th>sysBP</th>\n",
       "      <th>diaBP</th>\n",
       "      <th>BMI</th>\n",
       "      <th>heartRate</th>\n",
       "      <th>glucose</th>\n",
       "      <th>TenYearCHD</th>\n",
       "    </tr>\n",
       "  </thead>\n",
       "  <tbody>\n",
       "    <tr>\n",
       "      <th>0</th>\n",
       "      <td>1</td>\n",
       "      <td>39</td>\n",
       "      <td>4.0</td>\n",
       "      <td>0</td>\n",
       "      <td>0.0</td>\n",
       "      <td>0.0</td>\n",
       "      <td>0</td>\n",
       "      <td>0</td>\n",
       "      <td>0</td>\n",
       "      <td>195.0</td>\n",
       "      <td>106.0</td>\n",
       "      <td>70.0</td>\n",
       "      <td>26.97</td>\n",
       "      <td>80.0</td>\n",
       "      <td>77.0</td>\n",
       "      <td>0</td>\n",
       "    </tr>\n",
       "    <tr>\n",
       "      <th>1</th>\n",
       "      <td>0</td>\n",
       "      <td>46</td>\n",
       "      <td>2.0</td>\n",
       "      <td>0</td>\n",
       "      <td>0.0</td>\n",
       "      <td>0.0</td>\n",
       "      <td>0</td>\n",
       "      <td>0</td>\n",
       "      <td>0</td>\n",
       "      <td>250.0</td>\n",
       "      <td>121.0</td>\n",
       "      <td>81.0</td>\n",
       "      <td>28.73</td>\n",
       "      <td>95.0</td>\n",
       "      <td>76.0</td>\n",
       "      <td>0</td>\n",
       "    </tr>\n",
       "    <tr>\n",
       "      <th>2</th>\n",
       "      <td>1</td>\n",
       "      <td>48</td>\n",
       "      <td>1.0</td>\n",
       "      <td>1</td>\n",
       "      <td>20.0</td>\n",
       "      <td>0.0</td>\n",
       "      <td>0</td>\n",
       "      <td>0</td>\n",
       "      <td>0</td>\n",
       "      <td>245.0</td>\n",
       "      <td>127.5</td>\n",
       "      <td>80.0</td>\n",
       "      <td>25.34</td>\n",
       "      <td>75.0</td>\n",
       "      <td>70.0</td>\n",
       "      <td>0</td>\n",
       "    </tr>\n",
       "    <tr>\n",
       "      <th>3</th>\n",
       "      <td>0</td>\n",
       "      <td>61</td>\n",
       "      <td>3.0</td>\n",
       "      <td>1</td>\n",
       "      <td>30.0</td>\n",
       "      <td>0.0</td>\n",
       "      <td>0</td>\n",
       "      <td>1</td>\n",
       "      <td>0</td>\n",
       "      <td>225.0</td>\n",
       "      <td>150.0</td>\n",
       "      <td>95.0</td>\n",
       "      <td>28.58</td>\n",
       "      <td>65.0</td>\n",
       "      <td>103.0</td>\n",
       "      <td>1</td>\n",
       "    </tr>\n",
       "    <tr>\n",
       "      <th>4</th>\n",
       "      <td>0</td>\n",
       "      <td>46</td>\n",
       "      <td>3.0</td>\n",
       "      <td>1</td>\n",
       "      <td>23.0</td>\n",
       "      <td>0.0</td>\n",
       "      <td>0</td>\n",
       "      <td>0</td>\n",
       "      <td>0</td>\n",
       "      <td>285.0</td>\n",
       "      <td>130.0</td>\n",
       "      <td>84.0</td>\n",
       "      <td>23.10</td>\n",
       "      <td>85.0</td>\n",
       "      <td>85.0</td>\n",
       "      <td>0</td>\n",
       "    </tr>\n",
       "  </tbody>\n",
       "</table>\n",
       "</div>"
      ],
      "text/plain": [
       "   male  age  education  currentSmoker  cigsPerDay  BPMeds  prevalentStroke  \\\n",
       "0     1   39        4.0              0         0.0     0.0                0   \n",
       "1     0   46        2.0              0         0.0     0.0                0   \n",
       "2     1   48        1.0              1        20.0     0.0                0   \n",
       "3     0   61        3.0              1        30.0     0.0                0   \n",
       "4     0   46        3.0              1        23.0     0.0                0   \n",
       "\n",
       "   prevalentHyp  diabetes  totChol  sysBP  diaBP    BMI  heartRate  glucose  \\\n",
       "0             0         0    195.0  106.0   70.0  26.97       80.0     77.0   \n",
       "1             0         0    250.0  121.0   81.0  28.73       95.0     76.0   \n",
       "2             0         0    245.0  127.5   80.0  25.34       75.0     70.0   \n",
       "3             1         0    225.0  150.0   95.0  28.58       65.0    103.0   \n",
       "4             0         0    285.0  130.0   84.0  23.10       85.0     85.0   \n",
       "\n",
       "   TenYearCHD  \n",
       "0           0  \n",
       "1           0  \n",
       "2           0  \n",
       "3           1  \n",
       "4           0  "
      ]
     },
     "execution_count": 7,
     "metadata": {},
     "output_type": "execute_result"
    }
   ],
   "source": [
    "df.head()"
   ]
  },
  {
   "cell_type": "code",
   "execution_count": 41,
   "id": "ba6895d6-e29d-4b5e-b22d-e14c0b2b41ce",
   "metadata": {},
   "outputs": [
    {
     "data": {
      "text/plain": [
       "(4238, 16)"
      ]
     },
     "execution_count": 41,
     "metadata": {},
     "output_type": "execute_result"
    }
   ],
   "source": [
    "df.shape"
   ]
  },
  {
   "cell_type": "code",
   "execution_count": 8,
   "id": "de4daae6-ddfe-46eb-9a78-9fca740ce7a8",
   "metadata": {},
   "outputs": [
    {
     "data": {
      "text/plain": [
       "0"
      ]
     },
     "execution_count": 8,
     "metadata": {},
     "output_type": "execute_result"
    }
   ],
   "source": [
    "df.duplicated().sum()"
   ]
  },
  {
   "cell_type": "code",
   "execution_count": 11,
   "id": "8950ebcf-32d8-4125-b127-6e4267939710",
   "metadata": {},
   "outputs": [
    {
     "name": "stdout",
     "output_type": "stream",
     "text": [
      "<class 'pandas.core.frame.DataFrame'>\n",
      "RangeIndex: 4238 entries, 0 to 4237\n",
      "Data columns (total 16 columns):\n",
      " #   Column           Non-Null Count  Dtype  \n",
      "---  ------           --------------  -----  \n",
      " 0   male             4238 non-null   int64  \n",
      " 1   age              4238 non-null   int64  \n",
      " 2   education        4133 non-null   float64\n",
      " 3   currentSmoker    4238 non-null   int64  \n",
      " 4   cigsPerDay       4209 non-null   float64\n",
      " 5   BPMeds           4185 non-null   float64\n",
      " 6   prevalentStroke  4238 non-null   int64  \n",
      " 7   prevalentHyp     4238 non-null   int64  \n",
      " 8   diabetes         4238 non-null   int64  \n",
      " 9   totChol          4188 non-null   float64\n",
      " 10  sysBP            4238 non-null   float64\n",
      " 11  diaBP            4238 non-null   float64\n",
      " 12  BMI              4219 non-null   float64\n",
      " 13  heartRate        4237 non-null   float64\n",
      " 14  glucose          3850 non-null   float64\n",
      " 15  TenYearCHD       4238 non-null   int64  \n",
      "dtypes: float64(9), int64(7)\n",
      "memory usage: 529.9 KB\n"
     ]
    }
   ],
   "source": [
    "df.info()"
   ]
  },
  {
   "cell_type": "code",
   "execution_count": 15,
   "id": "5013a0e9-ab3b-45a2-ae9a-dba08aef9496",
   "metadata": {},
   "outputs": [
    {
     "data": {
      "text/plain": [
       "male                 0\n",
       "age                  0\n",
       "education            0\n",
       "currentSmoker        0\n",
       "cigsPerDay          29\n",
       "BPMeds              53\n",
       "prevalentStroke      0\n",
       "prevalentHyp         0\n",
       "diabetes             0\n",
       "totChol             50\n",
       "sysBP                0\n",
       "diaBP                0\n",
       "BMI                 19\n",
       "heartRate            1\n",
       "glucose            388\n",
       "TenYearCHD           0\n",
       "dtype: int64"
      ]
     },
     "execution_count": 15,
     "metadata": {},
     "output_type": "execute_result"
    }
   ],
   "source": [
    "df.isna().sum()"
   ]
  },
  {
   "cell_type": "code",
   "execution_count": 13,
   "id": "dfc044f6-6c02-416c-bf2f-e967ba0939d2",
   "metadata": {},
   "outputs": [
    {
     "data": {
      "text/plain": [
       "education\n",
       "1.0    1720\n",
       "2.0    1253\n",
       "3.0     687\n",
       "4.0     473\n",
       "Name: count, dtype: int64"
      ]
     },
     "execution_count": 13,
     "metadata": {},
     "output_type": "execute_result"
    }
   ],
   "source": [
    "df['education'].value_counts()"
   ]
  },
  {
   "cell_type": "code",
   "execution_count": 17,
   "id": "b833fa84-d384-448b-80a9-b06aa84f9131",
   "metadata": {},
   "outputs": [
    {
     "data": {
      "text/plain": [
       "cigsPerDay\n",
       "0.0     2144\n",
       "20.0     734\n",
       "30.0     217\n",
       "15.0     210\n",
       "10.0     143\n",
       "9.0      130\n",
       "5.0      121\n",
       "3.0      100\n",
       "40.0      80\n",
       "1.0       67\n",
       "43.0      56\n",
       "25.0      55\n",
       "35.0      22\n",
       "2.0       18\n",
       "6.0       18\n",
       "7.0       12\n",
       "8.0       11\n",
       "60.0      11\n",
       "4.0        9\n",
       "18.0       8\n",
       "17.0       7\n",
       "50.0       6\n",
       "23.0       6\n",
       "11.0       5\n",
       "45.0       3\n",
       "13.0       3\n",
       "12.0       3\n",
       "16.0       3\n",
       "14.0       2\n",
       "19.0       2\n",
       "38.0       1\n",
       "29.0       1\n",
       "70.0       1\n",
       "Name: count, dtype: int64"
      ]
     },
     "execution_count": 17,
     "metadata": {},
     "output_type": "execute_result"
    }
   ],
   "source": [
    "df['cigsPerDay'].value_counts()"
   ]
  },
  {
   "cell_type": "code",
   "execution_count": 19,
   "id": "1d782291-0e17-4954-9a4e-72af24eaa0bf",
   "metadata": {},
   "outputs": [
    {
     "data": {
      "text/plain": [
       "BPMeds\n",
       "0.0    4061\n",
       "1.0     124\n",
       "Name: count, dtype: int64"
      ]
     },
     "execution_count": 19,
     "metadata": {},
     "output_type": "execute_result"
    }
   ],
   "source": [
    "df['BPMeds'].value_counts()"
   ]
  },
  {
   "cell_type": "code",
   "execution_count": 21,
   "id": "3a2d9f05-a983-489c-b08b-dea7fe78ca61",
   "metadata": {},
   "outputs": [
    {
     "data": {
      "text/plain": [
       "totChol\n",
       "240.0    85\n",
       "220.0    70\n",
       "260.0    62\n",
       "210.0    61\n",
       "232.0    59\n",
       "         ..\n",
       "392.0     1\n",
       "405.0     1\n",
       "359.0     1\n",
       "398.0     1\n",
       "119.0     1\n",
       "Name: count, Length: 248, dtype: int64"
      ]
     },
     "execution_count": 21,
     "metadata": {},
     "output_type": "execute_result"
    }
   ],
   "source": [
    "df['totChol'].value_counts()"
   ]
  },
  {
   "cell_type": "code",
   "execution_count": 22,
   "id": "4f98bb0b-29cd-4a67-861e-8ba4399d8694",
   "metadata": {},
   "outputs": [
    {
     "data": {
      "text/plain": [
       "BMI\n",
       "22.19    18\n",
       "22.54    18\n",
       "23.48    18\n",
       "22.91    18\n",
       "23.09    16\n",
       "         ..\n",
       "34.13     1\n",
       "23.21     1\n",
       "29.13     1\n",
       "19.87     1\n",
       "43.67     1\n",
       "Name: count, Length: 1363, dtype: int64"
      ]
     },
     "execution_count": 22,
     "metadata": {},
     "output_type": "execute_result"
    }
   ],
   "source": [
    "df['BMI'].value_counts()"
   ]
  },
  {
   "cell_type": "code",
   "execution_count": 23,
   "id": "55914ee1-250b-4b50-81d7-8733014872a3",
   "metadata": {},
   "outputs": [
    {
     "data": {
      "text/plain": [
       "heartRate\n",
       "75.0     563\n",
       "80.0     385\n",
       "70.0     305\n",
       "60.0     231\n",
       "85.0     227\n",
       "        ... \n",
       "47.0       1\n",
       "130.0      1\n",
       "140.0      1\n",
       "51.0       1\n",
       "46.0       1\n",
       "Name: count, Length: 73, dtype: int64"
      ]
     },
     "execution_count": 23,
     "metadata": {},
     "output_type": "execute_result"
    }
   ],
   "source": [
    "df['heartRate'].value_counts()"
   ]
  },
  {
   "cell_type": "code",
   "execution_count": 24,
   "id": "02d02ab8-110a-4a26-ab42-1aa7bff06a86",
   "metadata": {},
   "outputs": [
    {
     "data": {
      "text/plain": [
       "glucose\n",
       "75.0     193\n",
       "77.0     167\n",
       "73.0     156\n",
       "80.0     152\n",
       "70.0     152\n",
       "        ... \n",
       "386.0      1\n",
       "155.0      1\n",
       "147.0      1\n",
       "205.0      1\n",
       "260.0      1\n",
       "Name: count, Length: 143, dtype: int64"
      ]
     },
     "execution_count": 24,
     "metadata": {},
     "output_type": "execute_result"
    }
   ],
   "source": [
    "df['glucose'].value_counts()"
   ]
  },
  {
   "cell_type": "code",
   "execution_count": 29,
   "id": "3d63fc51-ae25-4faa-bf36-09f1b108a5c4",
   "metadata": {},
   "outputs": [],
   "source": [
    "df['education'] = df['education'].fillna(df['education'].mean())\n",
    "df['cigsPerDay'] = df['cigsPerDay'].fillna(df['cigsPerDay'].median())\n",
    "df['BPMeds'] = df['BPMeds'].fillna(0.0)\n",
    "df['totChol'] = df['totChol'].fillna(df['totChol'].mean())\n",
    "df['BMI'] = df['BMI'].fillna(df['BMI'].median())\n",
    "df['heartRate'] = df['heartRate'].fillna(df['heartRate'].mean())\n",
    "df['glucose'] = df['glucose'].fillna(df['glucose'].mean())"
   ]
  },
  {
   "cell_type": "code",
   "execution_count": 30,
   "id": "0f47d2e8-086c-4d3c-85c2-77c8358482a4",
   "metadata": {},
   "outputs": [
    {
     "data": {
      "text/plain": [
       "male               0\n",
       "age                0\n",
       "education          0\n",
       "currentSmoker      0\n",
       "cigsPerDay         0\n",
       "BPMeds             0\n",
       "prevalentStroke    0\n",
       "prevalentHyp       0\n",
       "diabetes           0\n",
       "totChol            0\n",
       "sysBP              0\n",
       "diaBP              0\n",
       "BMI                0\n",
       "heartRate          0\n",
       "glucose            0\n",
       "TenYearCHD         0\n",
       "dtype: int64"
      ]
     },
     "execution_count": 30,
     "metadata": {},
     "output_type": "execute_result"
    }
   ],
   "source": [
    "df.isna().sum()"
   ]
  },
  {
   "cell_type": "code",
   "execution_count": 31,
   "id": "e1a6069e-c88c-4465-8cb3-ae92a18aea6d",
   "metadata": {},
   "outputs": [
    {
     "data": {
      "text/html": [
       "<div>\n",
       "<style scoped>\n",
       "    .dataframe tbody tr th:only-of-type {\n",
       "        vertical-align: middle;\n",
       "    }\n",
       "\n",
       "    .dataframe tbody tr th {\n",
       "        vertical-align: top;\n",
       "    }\n",
       "\n",
       "    .dataframe thead th {\n",
       "        text-align: right;\n",
       "    }\n",
       "</style>\n",
       "<table border=\"1\" class=\"dataframe\">\n",
       "  <thead>\n",
       "    <tr style=\"text-align: right;\">\n",
       "      <th></th>\n",
       "      <th>male</th>\n",
       "      <th>age</th>\n",
       "      <th>education</th>\n",
       "      <th>currentSmoker</th>\n",
       "      <th>cigsPerDay</th>\n",
       "      <th>BPMeds</th>\n",
       "      <th>prevalentStroke</th>\n",
       "      <th>prevalentHyp</th>\n",
       "      <th>diabetes</th>\n",
       "      <th>totChol</th>\n",
       "      <th>sysBP</th>\n",
       "      <th>diaBP</th>\n",
       "      <th>BMI</th>\n",
       "      <th>heartRate</th>\n",
       "      <th>glucose</th>\n",
       "      <th>TenYearCHD</th>\n",
       "    </tr>\n",
       "  </thead>\n",
       "  <tbody>\n",
       "    <tr>\n",
       "      <th>male</th>\n",
       "      <td>1.000000</td>\n",
       "      <td>-0.028979</td>\n",
       "      <td>0.017126</td>\n",
       "      <td>0.197596</td>\n",
       "      <td>0.315630</td>\n",
       "      <td>-0.051545</td>\n",
       "      <td>-0.004546</td>\n",
       "      <td>0.005313</td>\n",
       "      <td>0.015708</td>\n",
       "      <td>-0.069974</td>\n",
       "      <td>-0.035989</td>\n",
       "      <td>0.057933</td>\n",
       "      <td>0.081653</td>\n",
       "      <td>-0.116601</td>\n",
       "      <td>0.005818</td>\n",
       "      <td>0.088428</td>\n",
       "    </tr>\n",
       "    <tr>\n",
       "      <th>age</th>\n",
       "      <td>-0.028979</td>\n",
       "      <td>1.000000</td>\n",
       "      <td>-0.163613</td>\n",
       "      <td>-0.213748</td>\n",
       "      <td>-0.191847</td>\n",
       "      <td>0.120955</td>\n",
       "      <td>0.057655</td>\n",
       "      <td>0.307194</td>\n",
       "      <td>0.101258</td>\n",
       "      <td>0.260270</td>\n",
       "      <td>0.394302</td>\n",
       "      <td>0.206104</td>\n",
       "      <td>0.135174</td>\n",
       "      <td>-0.012819</td>\n",
       "      <td>0.116850</td>\n",
       "      <td>0.225256</td>\n",
       "    </tr>\n",
       "    <tr>\n",
       "      <th>education</th>\n",
       "      <td>0.017126</td>\n",
       "      <td>-0.163613</td>\n",
       "      <td>1.000000</td>\n",
       "      <td>0.018301</td>\n",
       "      <td>0.007669</td>\n",
       "      <td>-0.010363</td>\n",
       "      <td>-0.035110</td>\n",
       "      <td>-0.080993</td>\n",
       "      <td>-0.038146</td>\n",
       "      <td>-0.022507</td>\n",
       "      <td>-0.128260</td>\n",
       "      <td>-0.061755</td>\n",
       "      <td>-0.135618</td>\n",
       "      <td>-0.053626</td>\n",
       "      <td>-0.033721</td>\n",
       "      <td>-0.053384</td>\n",
       "    </tr>\n",
       "    <tr>\n",
       "      <th>currentSmoker</th>\n",
       "      <td>0.197596</td>\n",
       "      <td>-0.213748</td>\n",
       "      <td>0.018301</td>\n",
       "      <td>1.000000</td>\n",
       "      <td>0.760239</td>\n",
       "      <td>-0.048358</td>\n",
       "      <td>-0.032988</td>\n",
       "      <td>-0.103260</td>\n",
       "      <td>-0.044295</td>\n",
       "      <td>-0.046285</td>\n",
       "      <td>-0.130230</td>\n",
       "      <td>-0.107746</td>\n",
       "      <td>-0.167161</td>\n",
       "      <td>0.062348</td>\n",
       "      <td>-0.054157</td>\n",
       "      <td>0.019456</td>\n",
       "    </tr>\n",
       "    <tr>\n",
       "      <th>cigsPerDay</th>\n",
       "      <td>0.315630</td>\n",
       "      <td>-0.191847</td>\n",
       "      <td>0.007669</td>\n",
       "      <td>0.760239</td>\n",
       "      <td>1.000000</td>\n",
       "      <td>-0.044675</td>\n",
       "      <td>-0.032244</td>\n",
       "      <td>-0.065046</td>\n",
       "      <td>-0.036150</td>\n",
       "      <td>-0.026816</td>\n",
       "      <td>-0.088375</td>\n",
       "      <td>-0.056687</td>\n",
       "      <td>-0.092211</td>\n",
       "      <td>0.073866</td>\n",
       "      <td>-0.056650</td>\n",
       "      <td>0.058859</td>\n",
       "    </tr>\n",
       "    <tr>\n",
       "      <th>BPMeds</th>\n",
       "      <td>-0.051545</td>\n",
       "      <td>0.120955</td>\n",
       "      <td>-0.010363</td>\n",
       "      <td>-0.048358</td>\n",
       "      <td>-0.044675</td>\n",
       "      <td>1.000000</td>\n",
       "      <td>0.114609</td>\n",
       "      <td>0.258697</td>\n",
       "      <td>0.051394</td>\n",
       "      <td>0.078712</td>\n",
       "      <td>0.251503</td>\n",
       "      <td>0.192356</td>\n",
       "      <td>0.099584</td>\n",
       "      <td>0.015139</td>\n",
       "      <td>0.048856</td>\n",
       "      <td>0.086417</td>\n",
       "    </tr>\n",
       "    <tr>\n",
       "      <th>prevalentStroke</th>\n",
       "      <td>-0.004546</td>\n",
       "      <td>0.057655</td>\n",
       "      <td>-0.035110</td>\n",
       "      <td>-0.032988</td>\n",
       "      <td>-0.032244</td>\n",
       "      <td>0.114609</td>\n",
       "      <td>1.000000</td>\n",
       "      <td>0.074830</td>\n",
       "      <td>0.006949</td>\n",
       "      <td>0.000067</td>\n",
       "      <td>0.057009</td>\n",
       "      <td>0.045190</td>\n",
       "      <td>0.024265</td>\n",
       "      <td>-0.017676</td>\n",
       "      <td>0.018055</td>\n",
       "      <td>0.061810</td>\n",
       "    </tr>\n",
       "    <tr>\n",
       "      <th>prevalentHyp</th>\n",
       "      <td>0.005313</td>\n",
       "      <td>0.307194</td>\n",
       "      <td>-0.080993</td>\n",
       "      <td>-0.103260</td>\n",
       "      <td>-0.065046</td>\n",
       "      <td>0.258697</td>\n",
       "      <td>0.074830</td>\n",
       "      <td>1.000000</td>\n",
       "      <td>0.077808</td>\n",
       "      <td>0.163041</td>\n",
       "      <td>0.696755</td>\n",
       "      <td>0.615751</td>\n",
       "      <td>0.300510</td>\n",
       "      <td>0.147222</td>\n",
       "      <td>0.082924</td>\n",
       "      <td>0.177603</td>\n",
       "    </tr>\n",
       "    <tr>\n",
       "      <th>diabetes</th>\n",
       "      <td>0.015708</td>\n",
       "      <td>0.101258</td>\n",
       "      <td>-0.038146</td>\n",
       "      <td>-0.044295</td>\n",
       "      <td>-0.036150</td>\n",
       "      <td>0.051394</td>\n",
       "      <td>0.006949</td>\n",
       "      <td>0.077808</td>\n",
       "      <td>1.000000</td>\n",
       "      <td>0.040092</td>\n",
       "      <td>0.111283</td>\n",
       "      <td>0.050329</td>\n",
       "      <td>0.086025</td>\n",
       "      <td>0.048993</td>\n",
       "      <td>0.605705</td>\n",
       "      <td>0.097317</td>\n",
       "    </tr>\n",
       "    <tr>\n",
       "      <th>totChol</th>\n",
       "      <td>-0.069974</td>\n",
       "      <td>0.260270</td>\n",
       "      <td>-0.022507</td>\n",
       "      <td>-0.046285</td>\n",
       "      <td>-0.026816</td>\n",
       "      <td>0.078712</td>\n",
       "      <td>0.000067</td>\n",
       "      <td>0.163041</td>\n",
       "      <td>0.040092</td>\n",
       "      <td>1.000000</td>\n",
       "      <td>0.207609</td>\n",
       "      <td>0.163903</td>\n",
       "      <td>0.114905</td>\n",
       "      <td>0.090676</td>\n",
       "      <td>0.044583</td>\n",
       "      <td>0.081624</td>\n",
       "    </tr>\n",
       "    <tr>\n",
       "      <th>sysBP</th>\n",
       "      <td>-0.035989</td>\n",
       "      <td>0.394302</td>\n",
       "      <td>-0.128260</td>\n",
       "      <td>-0.130230</td>\n",
       "      <td>-0.088375</td>\n",
       "      <td>0.251503</td>\n",
       "      <td>0.057009</td>\n",
       "      <td>0.696755</td>\n",
       "      <td>0.111283</td>\n",
       "      <td>0.207609</td>\n",
       "      <td>1.000000</td>\n",
       "      <td>0.784002</td>\n",
       "      <td>0.325161</td>\n",
       "      <td>0.182174</td>\n",
       "      <td>0.134608</td>\n",
       "      <td>0.216429</td>\n",
       "    </tr>\n",
       "    <tr>\n",
       "      <th>diaBP</th>\n",
       "      <td>0.057933</td>\n",
       "      <td>0.206104</td>\n",
       "      <td>-0.061755</td>\n",
       "      <td>-0.107746</td>\n",
       "      <td>-0.056687</td>\n",
       "      <td>0.192356</td>\n",
       "      <td>0.045190</td>\n",
       "      <td>0.615751</td>\n",
       "      <td>0.050329</td>\n",
       "      <td>0.163903</td>\n",
       "      <td>0.784002</td>\n",
       "      <td>1.000000</td>\n",
       "      <td>0.376623</td>\n",
       "      <td>0.181246</td>\n",
       "      <td>0.058647</td>\n",
       "      <td>0.145299</td>\n",
       "    </tr>\n",
       "    <tr>\n",
       "      <th>BMI</th>\n",
       "      <td>0.081653</td>\n",
       "      <td>0.135174</td>\n",
       "      <td>-0.135618</td>\n",
       "      <td>-0.167161</td>\n",
       "      <td>-0.092211</td>\n",
       "      <td>0.099584</td>\n",
       "      <td>0.024265</td>\n",
       "      <td>0.300510</td>\n",
       "      <td>0.086025</td>\n",
       "      <td>0.114905</td>\n",
       "      <td>0.325161</td>\n",
       "      <td>0.376623</td>\n",
       "      <td>1.000000</td>\n",
       "      <td>0.067535</td>\n",
       "      <td>0.081984</td>\n",
       "      <td>0.074217</td>\n",
       "    </tr>\n",
       "    <tr>\n",
       "      <th>heartRate</th>\n",
       "      <td>-0.116601</td>\n",
       "      <td>-0.012819</td>\n",
       "      <td>-0.053626</td>\n",
       "      <td>0.062348</td>\n",
       "      <td>0.073866</td>\n",
       "      <td>0.015139</td>\n",
       "      <td>-0.017676</td>\n",
       "      <td>0.147222</td>\n",
       "      <td>0.048993</td>\n",
       "      <td>0.090676</td>\n",
       "      <td>0.182174</td>\n",
       "      <td>0.181246</td>\n",
       "      <td>0.067535</td>\n",
       "      <td>1.000000</td>\n",
       "      <td>0.089341</td>\n",
       "      <td>0.022898</td>\n",
       "    </tr>\n",
       "    <tr>\n",
       "      <th>glucose</th>\n",
       "      <td>0.005818</td>\n",
       "      <td>0.116850</td>\n",
       "      <td>-0.033721</td>\n",
       "      <td>-0.054157</td>\n",
       "      <td>-0.056650</td>\n",
       "      <td>0.048856</td>\n",
       "      <td>0.018055</td>\n",
       "      <td>0.082924</td>\n",
       "      <td>0.605705</td>\n",
       "      <td>0.044583</td>\n",
       "      <td>0.134608</td>\n",
       "      <td>0.058647</td>\n",
       "      <td>0.081984</td>\n",
       "      <td>0.089341</td>\n",
       "      <td>1.000000</td>\n",
       "      <td>0.120406</td>\n",
       "    </tr>\n",
       "    <tr>\n",
       "      <th>TenYearCHD</th>\n",
       "      <td>0.088428</td>\n",
       "      <td>0.225256</td>\n",
       "      <td>-0.053384</td>\n",
       "      <td>0.019456</td>\n",
       "      <td>0.058859</td>\n",
       "      <td>0.086417</td>\n",
       "      <td>0.061810</td>\n",
       "      <td>0.177603</td>\n",
       "      <td>0.097317</td>\n",
       "      <td>0.081624</td>\n",
       "      <td>0.216429</td>\n",
       "      <td>0.145299</td>\n",
       "      <td>0.074217</td>\n",
       "      <td>0.022898</td>\n",
       "      <td>0.120406</td>\n",
       "      <td>1.000000</td>\n",
       "    </tr>\n",
       "  </tbody>\n",
       "</table>\n",
       "</div>"
      ],
      "text/plain": [
       "                     male       age  education  currentSmoker  cigsPerDay  \\\n",
       "male             1.000000 -0.028979   0.017126       0.197596    0.315630   \n",
       "age             -0.028979  1.000000  -0.163613      -0.213748   -0.191847   \n",
       "education        0.017126 -0.163613   1.000000       0.018301    0.007669   \n",
       "currentSmoker    0.197596 -0.213748   0.018301       1.000000    0.760239   \n",
       "cigsPerDay       0.315630 -0.191847   0.007669       0.760239    1.000000   \n",
       "BPMeds          -0.051545  0.120955  -0.010363      -0.048358   -0.044675   \n",
       "prevalentStroke -0.004546  0.057655  -0.035110      -0.032988   -0.032244   \n",
       "prevalentHyp     0.005313  0.307194  -0.080993      -0.103260   -0.065046   \n",
       "diabetes         0.015708  0.101258  -0.038146      -0.044295   -0.036150   \n",
       "totChol         -0.069974  0.260270  -0.022507      -0.046285   -0.026816   \n",
       "sysBP           -0.035989  0.394302  -0.128260      -0.130230   -0.088375   \n",
       "diaBP            0.057933  0.206104  -0.061755      -0.107746   -0.056687   \n",
       "BMI              0.081653  0.135174  -0.135618      -0.167161   -0.092211   \n",
       "heartRate       -0.116601 -0.012819  -0.053626       0.062348    0.073866   \n",
       "glucose          0.005818  0.116850  -0.033721      -0.054157   -0.056650   \n",
       "TenYearCHD       0.088428  0.225256  -0.053384       0.019456    0.058859   \n",
       "\n",
       "                   BPMeds  prevalentStroke  prevalentHyp  diabetes   totChol  \\\n",
       "male            -0.051545        -0.004546      0.005313  0.015708 -0.069974   \n",
       "age              0.120955         0.057655      0.307194  0.101258  0.260270   \n",
       "education       -0.010363        -0.035110     -0.080993 -0.038146 -0.022507   \n",
       "currentSmoker   -0.048358        -0.032988     -0.103260 -0.044295 -0.046285   \n",
       "cigsPerDay      -0.044675        -0.032244     -0.065046 -0.036150 -0.026816   \n",
       "BPMeds           1.000000         0.114609      0.258697  0.051394  0.078712   \n",
       "prevalentStroke  0.114609         1.000000      0.074830  0.006949  0.000067   \n",
       "prevalentHyp     0.258697         0.074830      1.000000  0.077808  0.163041   \n",
       "diabetes         0.051394         0.006949      0.077808  1.000000  0.040092   \n",
       "totChol          0.078712         0.000067      0.163041  0.040092  1.000000   \n",
       "sysBP            0.251503         0.057009      0.696755  0.111283  0.207609   \n",
       "diaBP            0.192356         0.045190      0.615751  0.050329  0.163903   \n",
       "BMI              0.099584         0.024265      0.300510  0.086025  0.114905   \n",
       "heartRate        0.015139        -0.017676      0.147222  0.048993  0.090676   \n",
       "glucose          0.048856         0.018055      0.082924  0.605705  0.044583   \n",
       "TenYearCHD       0.086417         0.061810      0.177603  0.097317  0.081624   \n",
       "\n",
       "                    sysBP     diaBP       BMI  heartRate   glucose  TenYearCHD  \n",
       "male            -0.035989  0.057933  0.081653  -0.116601  0.005818    0.088428  \n",
       "age              0.394302  0.206104  0.135174  -0.012819  0.116850    0.225256  \n",
       "education       -0.128260 -0.061755 -0.135618  -0.053626 -0.033721   -0.053384  \n",
       "currentSmoker   -0.130230 -0.107746 -0.167161   0.062348 -0.054157    0.019456  \n",
       "cigsPerDay      -0.088375 -0.056687 -0.092211   0.073866 -0.056650    0.058859  \n",
       "BPMeds           0.251503  0.192356  0.099584   0.015139  0.048856    0.086417  \n",
       "prevalentStroke  0.057009  0.045190  0.024265  -0.017676  0.018055    0.061810  \n",
       "prevalentHyp     0.696755  0.615751  0.300510   0.147222  0.082924    0.177603  \n",
       "diabetes         0.111283  0.050329  0.086025   0.048993  0.605705    0.097317  \n",
       "totChol          0.207609  0.163903  0.114905   0.090676  0.044583    0.081624  \n",
       "sysBP            1.000000  0.784002  0.325161   0.182174  0.134608    0.216429  \n",
       "diaBP            0.784002  1.000000  0.376623   0.181246  0.058647    0.145299  \n",
       "BMI              0.325161  0.376623  1.000000   0.067535  0.081984    0.074217  \n",
       "heartRate        0.182174  0.181246  0.067535   1.000000  0.089341    0.022898  \n",
       "glucose          0.134608  0.058647  0.081984   0.089341  1.000000    0.120406  \n",
       "TenYearCHD       0.216429  0.145299  0.074217   0.022898  0.120406    1.000000  "
      ]
     },
     "execution_count": 31,
     "metadata": {},
     "output_type": "execute_result"
    }
   ],
   "source": [
    "df.corr()"
   ]
  },
  {
   "cell_type": "code",
   "execution_count": 36,
   "id": "4c92a80e-3bcf-4a89-9b80-d09e1c9e251e",
   "metadata": {},
   "outputs": [],
   "source": [
    "X = df.iloc[:,:-1]\n",
    "y=df['TenYearCHD']"
   ]
  },
  {
   "cell_type": "code",
   "execution_count": 38,
   "id": "1de4d4eb-6151-4363-abf7-16650a94caf7",
   "metadata": {},
   "outputs": [],
   "source": [
    "from sklearn.model_selection import train_test_split\n",
    "from sklearn.linear_model import LogisticRegression"
   ]
  },
  {
   "cell_type": "code",
   "execution_count": 39,
   "id": "811a5bf4-2942-42ac-aa78-42df17f2b1e9",
   "metadata": {},
   "outputs": [],
   "source": [
    "x_train,x_test,y_train,y_test = train_test_split(X,y , test_size=0.2,random_state=0)"
   ]
  },
  {
   "cell_type": "code",
   "execution_count": 42,
   "id": "d305bb15-9732-453a-8a71-11a6a8943779",
   "metadata": {},
   "outputs": [
    {
     "name": "stdout",
     "output_type": "stream",
     "text": [
      "(3390, 15)\n",
      "(848, 15)\n",
      "(3390,)\n",
      "(848,)\n"
     ]
    }
   ],
   "source": [
    "print(x_train.shape)\n",
    "print(x_test.shape)\n",
    "print(y_train.shape)\n",
    "print(y_test.shape)"
   ]
  },
  {
   "cell_type": "code",
   "execution_count": 43,
   "id": "ae09b7f5-9f1a-4383-a6b3-9d977dff9dd2",
   "metadata": {},
   "outputs": [
    {
     "name": "stderr",
     "output_type": "stream",
     "text": [
      "C:\\Users\\asus\\anaconda3\\Lib\\site-packages\\sklearn\\linear_model\\_logistic.py:458: ConvergenceWarning: lbfgs failed to converge (status=1):\n",
      "STOP: TOTAL NO. of ITERATIONS REACHED LIMIT.\n",
      "\n",
      "Increase the number of iterations (max_iter) or scale the data as shown in:\n",
      "    https://scikit-learn.org/stable/modules/preprocessing.html\n",
      "Please also refer to the documentation for alternative solver options:\n",
      "    https://scikit-learn.org/stable/modules/linear_model.html#logistic-regression\n",
      "  n_iter_i = _check_optimize_result(\n"
     ]
    },
    {
     "data": {
      "text/html": [
       "<style>#sk-container-id-1 {color: black;background-color: white;}#sk-container-id-1 pre{padding: 0;}#sk-container-id-1 div.sk-toggleable {background-color: white;}#sk-container-id-1 label.sk-toggleable__label {cursor: pointer;display: block;width: 100%;margin-bottom: 0;padding: 0.3em;box-sizing: border-box;text-align: center;}#sk-container-id-1 label.sk-toggleable__label-arrow:before {content: \"▸\";float: left;margin-right: 0.25em;color: #696969;}#sk-container-id-1 label.sk-toggleable__label-arrow:hover:before {color: black;}#sk-container-id-1 div.sk-estimator:hover label.sk-toggleable__label-arrow:before {color: black;}#sk-container-id-1 div.sk-toggleable__content {max-height: 0;max-width: 0;overflow: hidden;text-align: left;background-color: #f0f8ff;}#sk-container-id-1 div.sk-toggleable__content pre {margin: 0.2em;color: black;border-radius: 0.25em;background-color: #f0f8ff;}#sk-container-id-1 input.sk-toggleable__control:checked~div.sk-toggleable__content {max-height: 200px;max-width: 100%;overflow: auto;}#sk-container-id-1 input.sk-toggleable__control:checked~label.sk-toggleable__label-arrow:before {content: \"▾\";}#sk-container-id-1 div.sk-estimator input.sk-toggleable__control:checked~label.sk-toggleable__label {background-color: #d4ebff;}#sk-container-id-1 div.sk-label input.sk-toggleable__control:checked~label.sk-toggleable__label {background-color: #d4ebff;}#sk-container-id-1 input.sk-hidden--visually {border: 0;clip: rect(1px 1px 1px 1px);clip: rect(1px, 1px, 1px, 1px);height: 1px;margin: -1px;overflow: hidden;padding: 0;position: absolute;width: 1px;}#sk-container-id-1 div.sk-estimator {font-family: monospace;background-color: #f0f8ff;border: 1px dotted black;border-radius: 0.25em;box-sizing: border-box;margin-bottom: 0.5em;}#sk-container-id-1 div.sk-estimator:hover {background-color: #d4ebff;}#sk-container-id-1 div.sk-parallel-item::after {content: \"\";width: 100%;border-bottom: 1px solid gray;flex-grow: 1;}#sk-container-id-1 div.sk-label:hover label.sk-toggleable__label {background-color: #d4ebff;}#sk-container-id-1 div.sk-serial::before {content: \"\";position: absolute;border-left: 1px solid gray;box-sizing: border-box;top: 0;bottom: 0;left: 50%;z-index: 0;}#sk-container-id-1 div.sk-serial {display: flex;flex-direction: column;align-items: center;background-color: white;padding-right: 0.2em;padding-left: 0.2em;position: relative;}#sk-container-id-1 div.sk-item {position: relative;z-index: 1;}#sk-container-id-1 div.sk-parallel {display: flex;align-items: stretch;justify-content: center;background-color: white;position: relative;}#sk-container-id-1 div.sk-item::before, #sk-container-id-1 div.sk-parallel-item::before {content: \"\";position: absolute;border-left: 1px solid gray;box-sizing: border-box;top: 0;bottom: 0;left: 50%;z-index: -1;}#sk-container-id-1 div.sk-parallel-item {display: flex;flex-direction: column;z-index: 1;position: relative;background-color: white;}#sk-container-id-1 div.sk-parallel-item:first-child::after {align-self: flex-end;width: 50%;}#sk-container-id-1 div.sk-parallel-item:last-child::after {align-self: flex-start;width: 50%;}#sk-container-id-1 div.sk-parallel-item:only-child::after {width: 0;}#sk-container-id-1 div.sk-dashed-wrapped {border: 1px dashed gray;margin: 0 0.4em 0.5em 0.4em;box-sizing: border-box;padding-bottom: 0.4em;background-color: white;}#sk-container-id-1 div.sk-label label {font-family: monospace;font-weight: bold;display: inline-block;line-height: 1.2em;}#sk-container-id-1 div.sk-label-container {text-align: center;}#sk-container-id-1 div.sk-container {/* jupyter's `normalize.less` sets `[hidden] { display: none; }` but bootstrap.min.css set `[hidden] { display: none !important; }` so we also need the `!important` here to be able to override the default hidden behavior on the sphinx rendered scikit-learn.org. See: https://github.com/scikit-learn/scikit-learn/issues/21755 */display: inline-block !important;position: relative;}#sk-container-id-1 div.sk-text-repr-fallback {display: none;}</style><div id=\"sk-container-id-1\" class=\"sk-top-container\"><div class=\"sk-text-repr-fallback\"><pre>LogisticRegression()</pre><b>In a Jupyter environment, please rerun this cell to show the HTML representation or trust the notebook. <br />On GitHub, the HTML representation is unable to render, please try loading this page with nbviewer.org.</b></div><div class=\"sk-container\" hidden><div class=\"sk-item\"><div class=\"sk-estimator sk-toggleable\"><input class=\"sk-toggleable__control sk-hidden--visually\" id=\"sk-estimator-id-1\" type=\"checkbox\" checked><label for=\"sk-estimator-id-1\" class=\"sk-toggleable__label sk-toggleable__label-arrow\">LogisticRegression</label><div class=\"sk-toggleable__content\"><pre>LogisticRegression()</pre></div></div></div></div></div>"
      ],
      "text/plain": [
       "LogisticRegression()"
      ]
     },
     "execution_count": 43,
     "metadata": {},
     "output_type": "execute_result"
    }
   ],
   "source": [
    "model = LogisticRegression()\n",
    "model.fit(x_train,y_train)"
   ]
  },
  {
   "cell_type": "code",
   "execution_count": 46,
   "id": "a12a41b9-c300-4dcd-8916-49a215d9849b",
   "metadata": {},
   "outputs": [],
   "source": [
    "y_pred = model.predict(x_test)"
   ]
  },
  {
   "cell_type": "code",
   "execution_count": 48,
   "id": "60a2a85f-d0e7-41b8-a1e8-7d3aa341eea4",
   "metadata": {},
   "outputs": [
    {
     "name": "stdout",
     "output_type": "stream",
     "text": [
      "Model Score in Training data :  85.39823008849558\n",
      "Model Score in Testing data :  83.72641509433963\n"
     ]
    }
   ],
   "source": [
    "print(\"Model Score in Training data : \",model.score(x_train, y_train)*100)\n",
    "print(\"Model Score in Testing data : \",model.score(x_test, y_test)*100)"
   ]
  },
  {
   "cell_type": "code",
   "execution_count": 49,
   "id": "75476e38-f42c-42ad-a938-d09fe01d7003",
   "metadata": {},
   "outputs": [],
   "source": [
    "from sklearn.metrics import confusion_matrix, precision_score, recall_score, f1_score, accuracy_score"
   ]
  },
  {
   "cell_type": "code",
   "execution_count": 50,
   "id": "aedaf264-70b6-4d1d-a909-d7f3065e50cd",
   "metadata": {},
   "outputs": [
    {
     "data": {
      "text/plain": [
       "array([[707,   3],\n",
       "       [135,   3]], dtype=int64)"
      ]
     },
     "execution_count": 50,
     "metadata": {},
     "output_type": "execute_result"
    }
   ],
   "source": [
    "cf = confusion_matrix(y_test, y_pred)\n",
    "cf"
   ]
  },
  {
   "cell_type": "code",
   "execution_count": 51,
   "id": "6253ae64-0643-4c8f-ad75-3da270e2309f",
   "metadata": {},
   "outputs": [
    {
     "data": {
      "image/png": "[encoded data removed]",
      "text/plain": [
       "<Figure size 640x480 with 2 Axes>"
      ]
     },
     "metadata": {},
     "output_type": "display_data"
    }
   ],
   "source": [
    "sns.heatmap(cf, annot = True)\n",
    "plt.show()"
   ]
  },
  {
   "cell_type": "code",
   "execution_count": 52,
   "id": "c9a273c2-b286-4aca-a699-90cf801f52a4",
   "metadata": {},
   "outputs": [
    {
     "data": {
      "text/plain": [
       "0.8372641509433962"
      ]
     },
     "execution_count": 52,
     "metadata": {},
     "output_type": "execute_result"
    }
   ],
   "source": [
    "accuracy_score(y_test, y_pred)"
   ]
  },
  {
   "cell_type": "code",
   "execution_count": 53,
   "id": "06d50a00-d68d-4876-a523-2af35e341652",
   "metadata": {},
   "outputs": [
    {
     "data": {
      "text/plain": [
       "2.1739130434782608"
      ]
     },
     "execution_count": 53,
     "metadata": {},
     "output_type": "execute_result"
    }
   ],
   "source": [
    "recall_score(y_test, y_pred)*100"
   ]
  },
  {
   "cell_type": "code",
   "execution_count": 54,
   "id": "0d121068-e2b5-41c7-bd6c-d2915b87364a",
   "metadata": {},
   "outputs": [
    {
     "data": {
      "text/html": [
       "<table class=\"simpletable\">\n",
       "<caption>OLS Regression Results</caption>\n",
       "<tr>\n",
       "  <th>Dep. Variable:</th>            <td>y</td>        <th>  R-squared:         </th> <td>   0.097</td>\n",
       "</tr>\n",
       "<tr>\n",
       "  <th>Model:</th>                   <td>OLS</td>       <th>  Adj. R-squared:    </th> <td>   0.094</td>\n",
       "</tr>\n",
       "<tr>\n",
       "  <th>Method:</th>             <td>Least Squares</td>  <th>  F-statistic:       </th> <td>   30.30</td>\n",
       "</tr>\n",
       "<tr>\n",
       "  <th>Date:</th>             <td>Tue, 28 May 2024</td> <th>  Prob (F-statistic):</th> <td>1.08e-82</td>\n",
       "</tr>\n",
       "<tr>\n",
       "  <th>Time:</th>                 <td>20:46:44</td>     <th>  Log-Likelihood:    </th> <td> -1455.0</td>\n",
       "</tr>\n",
       "<tr>\n",
       "  <th>No. Observations:</th>      <td>  4238</td>      <th>  AIC:               </th> <td>   2942.</td>\n",
       "</tr>\n",
       "<tr>\n",
       "  <th>Df Residuals:</th>          <td>  4222</td>      <th>  BIC:               </th> <td>   3044.</td>\n",
       "</tr>\n",
       "<tr>\n",
       "  <th>Df Model:</th>              <td>    15</td>      <th>                     </th>     <td> </td>   \n",
       "</tr>\n",
       "<tr>\n",
       "  <th>Covariance Type:</th>      <td>nonrobust</td>    <th>                     </th>     <td> </td>   \n",
       "</tr>\n",
       "</table>\n",
       "<table class=\"simpletable\">\n",
       "<tr>\n",
       "      <td></td>         <th>coef</th>     <th>std err</th>      <th>t</th>      <th>P>|t|</th>  <th>[0.025</th>    <th>0.975]</th>  \n",
       "</tr>\n",
       "<tr>\n",
       "  <th>Intercept</th> <td>   -0.5592</td> <td>    0.074</td> <td>   -7.555</td> <td> 0.000</td> <td>   -0.704</td> <td>   -0.414</td>\n",
       "</tr>\n",
       "<tr>\n",
       "  <th>X[0]</th>      <td>    0.0531</td> <td>    0.012</td> <td>    4.585</td> <td> 0.000</td> <td>    0.030</td> <td>    0.076</td>\n",
       "</tr>\n",
       "<tr>\n",
       "  <th>X[1]</th>      <td>    0.0069</td> <td>    0.001</td> <td>    9.641</td> <td> 0.000</td> <td>    0.006</td> <td>    0.008</td>\n",
       "</tr>\n",
       "<tr>\n",
       "  <th>X[2]</th>      <td>   -0.0018</td> <td>    0.005</td> <td>   -0.330</td> <td> 0.741</td> <td>   -0.012</td> <td>    0.009</td>\n",
       "</tr>\n",
       "<tr>\n",
       "  <th>X[3]</th>      <td>   -0.0005</td> <td>    0.016</td> <td>   -0.033</td> <td> 0.974</td> <td>   -0.033</td> <td>    0.032</td>\n",
       "</tr>\n",
       "<tr>\n",
       "  <th>X[4]</th>      <td>    0.0027</td> <td>    0.001</td> <td>    3.780</td> <td> 0.000</td> <td>    0.001</td> <td>    0.004</td>\n",
       "</tr>\n",
       "<tr>\n",
       "  <th>X[5]</th>      <td>    0.0550</td> <td>    0.033</td> <td>    1.682</td> <td> 0.093</td> <td>   -0.009</td> <td>    0.119</td>\n",
       "</tr>\n",
       "<tr>\n",
       "  <th>X[6]</th>      <td>    0.1950</td> <td>    0.069</td> <td>    2.817</td> <td> 0.005</td> <td>    0.059</td> <td>    0.331</td>\n",
       "</tr>\n",
       "<tr>\n",
       "  <th>X[7]</th>      <td>    0.0288</td> <td>    0.016</td> <td>    1.771</td> <td> 0.077</td> <td>   -0.003</td> <td>    0.061</td>\n",
       "</tr>\n",
       "<tr>\n",
       "  <th>X[8]</th>      <td>    0.0479</td> <td>    0.042</td> <td>    1.146</td> <td> 0.252</td> <td>   -0.034</td> <td>    0.130</td>\n",
       "</tr>\n",
       "<tr>\n",
       "  <th>X[9]</th>      <td> 9.015e-05</td> <td>    0.000</td> <td>    0.723</td> <td> 0.469</td> <td>   -0.000</td> <td>    0.000</td>\n",
       "</tr>\n",
       "<tr>\n",
       "  <th>X[10]</th>     <td>    0.0023</td> <td>    0.000</td> <td>    4.930</td> <td> 0.000</td> <td>    0.001</td> <td>    0.003</td>\n",
       "</tr>\n",
       "<tr>\n",
       "  <th>X[11]</th>     <td>   -0.0010</td> <td>    0.001</td> <td>   -1.274</td> <td> 0.203</td> <td>   -0.002</td> <td>    0.001</td>\n",
       "</tr>\n",
       "<tr>\n",
       "  <th>X[12]</th>     <td>   -0.0003</td> <td>    0.001</td> <td>   -0.197</td> <td> 0.844</td> <td>   -0.003</td> <td>    0.003</td>\n",
       "</tr>\n",
       "<tr>\n",
       "  <th>X[13]</th>     <td>   -0.0002</td> <td>    0.000</td> <td>   -0.398</td> <td> 0.691</td> <td>   -0.001</td> <td>    0.001</td>\n",
       "</tr>\n",
       "<tr>\n",
       "  <th>X[14]</th>     <td>    0.0011</td> <td>    0.000</td> <td>    3.830</td> <td> 0.000</td> <td>    0.001</td> <td>    0.002</td>\n",
       "</tr>\n",
       "</table>\n",
       "<table class=\"simpletable\">\n",
       "<tr>\n",
       "  <th>Omnibus:</th>       <td>1179.169</td> <th>  Durbin-Watson:     </th> <td>   2.036</td>\n",
       "</tr>\n",
       "<tr>\n",
       "  <th>Prob(Omnibus):</th>  <td> 0.000</td>  <th>  Jarque-Bera (JB):  </th> <td>2450.495</td>\n",
       "</tr>\n",
       "<tr>\n",
       "  <th>Skew:</th>           <td> 1.690</td>  <th>  Prob(JB):          </th> <td>    0.00</td>\n",
       "</tr>\n",
       "<tr>\n",
       "  <th>Kurtosis:</th>       <td> 4.567</td>  <th>  Cond. No.          </th> <td>4.47e+03</td>\n",
       "</tr>\n",
       "</table><br/><br/>Notes:<br/>[1] Standard Errors assume that the covariance matrix of the errors is correctly specified.<br/>[2] The condition number is large, 4.47e+03. This might indicate that there are<br/>strong multicollinearity or other numerical problems."
      ],
      "text/latex": [
       "\\begin{center}\n",
       "\\begin{tabular}{lclc}\n",
       "\\toprule\n",
       "\\textbf{Dep. Variable:}    &        y         & \\textbf{  R-squared:         } &     0.097   \\\\\n",
       "\\textbf{Model:}            &       OLS        & \\textbf{  Adj. R-squared:    } &     0.094   \\\\\n",
       "\\textbf{Method:}           &  Least Squares   & \\textbf{  F-statistic:       } &     30.30   \\\\\n",
       "\\textbf{Date:}             & Tue, 28 May 2024 & \\textbf{  Prob (F-statistic):} &  1.08e-82   \\\\\n",
       "\\textbf{Time:}             &     20:46:44     & \\textbf{  Log-Likelihood:    } &   -1455.0   \\\\\n",
       "\\textbf{No. Observations:} &        4238      & \\textbf{  AIC:               } &     2942.   \\\\\n",
       "\\textbf{Df Residuals:}     &        4222      & \\textbf{  BIC:               } &     3044.   \\\\\n",
       "\\textbf{Df Model:}         &          15      & \\textbf{                     } &             \\\\\n",
       "\\textbf{Covariance Type:}  &    nonrobust     & \\textbf{                     } &             \\\\\n",
       "\\bottomrule\n",
       "\\end{tabular}\n",
       "\\begin{tabular}{lcccccc}\n",
       "                   & \\textbf{coef} & \\textbf{std err} & \\textbf{t} & \\textbf{P$> |$t$|$} & \\textbf{[0.025} & \\textbf{0.975]}  \\\\\n",
       "\\midrule\n",
       "\\textbf{Intercept} &      -0.5592  &        0.074     &    -7.555  &         0.000        &       -0.704    &       -0.414     \\\\\n",
       "\\textbf{X[0]}      &       0.0531  &        0.012     &     4.585  &         0.000        &        0.030    &        0.076     \\\\\n",
       "\\textbf{X[1]}      &       0.0069  &        0.001     &     9.641  &         0.000        &        0.006    &        0.008     \\\\\n",
       "\\textbf{X[2]}      &      -0.0018  &        0.005     &    -0.330  &         0.741        &       -0.012    &        0.009     \\\\\n",
       "\\textbf{X[3]}      &      -0.0005  &        0.016     &    -0.033  &         0.974        &       -0.033    &        0.032     \\\\\n",
       "\\textbf{X[4]}      &       0.0027  &        0.001     &     3.780  &         0.000        &        0.001    &        0.004     \\\\\n",
       "\\textbf{X[5]}      &       0.0550  &        0.033     &     1.682  &         0.093        &       -0.009    &        0.119     \\\\\n",
       "\\textbf{X[6]}      &       0.1950  &        0.069     &     2.817  &         0.005        &        0.059    &        0.331     \\\\\n",
       "\\textbf{X[7]}      &       0.0288  &        0.016     &     1.771  &         0.077        &       -0.003    &        0.061     \\\\\n",
       "\\textbf{X[8]}      &       0.0479  &        0.042     &     1.146  &         0.252        &       -0.034    &        0.130     \\\\\n",
       "\\textbf{X[9]}      &    9.015e-05  &        0.000     &     0.723  &         0.469        &       -0.000    &        0.000     \\\\\n",
       "\\textbf{X[10]}     &       0.0023  &        0.000     &     4.930  &         0.000        &        0.001    &        0.003     \\\\\n",
       "\\textbf{X[11]}     &      -0.0010  &        0.001     &    -1.274  &         0.203        &       -0.002    &        0.001     \\\\\n",
       "\\textbf{X[12]}     &      -0.0003  &        0.001     &    -0.197  &         0.844        &       -0.003    &        0.003     \\\\\n",
       "\\textbf{X[13]}     &      -0.0002  &        0.000     &    -0.398  &         0.691        &       -0.001    &        0.001     \\\\\n",
       "\\textbf{X[14]}     &       0.0011  &        0.000     &     3.830  &         0.000        &        0.001    &        0.002     \\\\\n",
       "\\bottomrule\n",
       "\\end{tabular}\n",
       "\\begin{tabular}{lclc}\n",
       "\\textbf{Omnibus:}       & 1179.169 & \\textbf{  Durbin-Watson:     } &    2.036  \\\\\n",
       "\\textbf{Prob(Omnibus):} &   0.000  & \\textbf{  Jarque-Bera (JB):  } & 2450.495  \\\\\n",
       "\\textbf{Skew:}          &   1.690  & \\textbf{  Prob(JB):          } &     0.00  \\\\\n",
       "\\textbf{Kurtosis:}      &   4.567  & \\textbf{  Cond. No.          } & 4.47e+03  \\\\\n",
       "\\bottomrule\n",
       "\\end{tabular}\n",
       "%\\caption{OLS Regression Results}\n",
       "\\end{center}\n",
       "\n",
       "Notes: \\newline\n",
       " [1] Standard Errors assume that the covariance matrix of the errors is correctly specified. \\newline\n",
       " [2] The condition number is large, 4.47e+03. This might indicate that there are \\newline\n",
       " strong multicollinearity or other numerical problems."
      ],
      "text/plain": [
       "<class 'statsmodels.iolib.summary.Summary'>\n",
       "\"\"\"\n",
       "                            OLS Regression Results                            \n",
       "==============================================================================\n",
       "Dep. Variable:                      y   R-squared:                       0.097\n",
       "Model:                            OLS   Adj. R-squared:                  0.094\n",
       "Method:                 Least Squares   F-statistic:                     30.30\n",
       "Date:                Tue, 28 May 2024   Prob (F-statistic):           1.08e-82\n",
       "Time:                        20:46:44   Log-Likelihood:                -1455.0\n",
       "No. Observations:                4238   AIC:                             2942.\n",
       "Df Residuals:                    4222   BIC:                             3044.\n",
       "Df Model:                          15                                         \n",
       "Covariance Type:            nonrobust                                         \n",
       "==============================================================================\n",
       "                 coef    std err          t      P>|t|      [0.025      0.975]\n",
       "------------------------------------------------------------------------------\n",
       "Intercept     -0.5592      0.074     -7.555      0.000      -0.704      -0.414\n",
       "X[0]           0.0531      0.012      4.585      0.000       0.030       0.076\n",
       "X[1]           0.0069      0.001      9.641      0.000       0.006       0.008\n",
       "X[2]          -0.0018      0.005     -0.330      0.741      -0.012       0.009\n",
       "X[3]          -0.0005      0.016     -0.033      0.974      -0.033       0.032\n",
       "X[4]           0.0027      0.001      3.780      0.000       0.001       0.004\n",
       "X[5]           0.0550      0.033      1.682      0.093      -0.009       0.119\n",
       "X[6]           0.1950      0.069      2.817      0.005       0.059       0.331\n",
       "X[7]           0.0288      0.016      1.771      0.077      -0.003       0.061\n",
       "X[8]           0.0479      0.042      1.146      0.252      -0.034       0.130\n",
       "X[9]        9.015e-05      0.000      0.723      0.469      -0.000       0.000\n",
       "X[10]          0.0023      0.000      4.930      0.000       0.001       0.003\n",
       "X[11]         -0.0010      0.001     -1.274      0.203      -0.002       0.001\n",
       "X[12]         -0.0003      0.001     -0.197      0.844      -0.003       0.003\n",
       "X[13]         -0.0002      0.000     -0.398      0.691      -0.001       0.001\n",
       "X[14]          0.0011      0.000      3.830      0.000       0.001       0.002\n",
       "==============================================================================\n",
       "Omnibus:                     1179.169   Durbin-Watson:                   2.036\n",
       "Prob(Omnibus):                  0.000   Jarque-Bera (JB):             2450.495\n",
       "Skew:                           1.690   Prob(JB):                         0.00\n",
       "Kurtosis:                       4.567   Cond. No.                     4.47e+03\n",
       "==============================================================================\n",
       "\n",
       "Notes:\n",
       "[1] Standard Errors assume that the covariance matrix of the errors is correctly specified.\n",
       "[2] The condition number is large, 4.47e+03. This might indicate that there are\n",
       "strong multicollinearity or other numerical problems.\n",
       "\"\"\""
      ]
     },
     "execution_count": 54,
     "metadata": {},
     "output_type": "execute_result"
    }
   ],
   "source": [
    "import statsmodels.formula.api as smf\n",
    "r=smf.ols(\"y~X\",data=df).fit() #oridinary least square\n",
    "r.summary()"
   ]
  },
  {
   "cell_type": "code",
   "execution_count": null,
   "id": "d0e22b57-9ed2-421a-9c28-b7c5eaf8e819",
   "metadata": {},
   "outputs": [],
   "source": []
  }
 ],
 "metadata": {
  "kernelspec": {
   "display_name": "Python 3 (ipykernel)",
   "language": "python",
   "name": "python3"
  },
  "language_info": {
   "codemirror_mode": {
    "name": "ipython",
    "version": 3
   },
   "file_extension": ".py",
   "mimetype": "text/x-python",
   "name": "python",
   "nbconvert_exporter": "python",
   "pygments_lexer": "ipython3",
   "version": "3.11.7"
  }
 },
 "nbformat": 4,
 "nbformat_minor": 5
}
